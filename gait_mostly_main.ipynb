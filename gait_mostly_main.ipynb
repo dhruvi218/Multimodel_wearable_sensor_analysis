{
 "cells": [
  {
   "cell_type": "code",
   "execution_count": 1,
   "metadata": {},
   "outputs": [],
   "source": [
    "import pandas as pd\n",
    "import numpy as np\n",
    "from scipy.fft import fft, ifft, fftfreq"
   ]
  },
  {
   "cell_type": "code",
   "execution_count": 2,
   "metadata": {},
   "outputs": [
    {
     "ename": "NameError",
     "evalue": "name 'csv_file_paths' is not defined",
     "output_type": "error",
     "traceback": [
      "\u001b[0;31m---------------------------------------------------------------------------\u001b[0m",
      "\u001b[0;31mNameError\u001b[0m                                 Traceback (most recent call last)",
      "\u001b[0;32m<ipython-input-2-1cdeace5cae8>\u001b[0m in \u001b[0;36m<module>\u001b[0;34m\u001b[0m\n\u001b[1;32m      9\u001b[0m \u001b[0;31m#     \"tug\": \"hc100_tug.csv\"\u001b[0m\u001b[0;34m\u001b[0m\u001b[0;34m\u001b[0m\u001b[0;34m\u001b[0m\u001b[0m\n\u001b[1;32m     10\u001b[0m \u001b[0;31m# }\u001b[0m\u001b[0;34m\u001b[0m\u001b[0;34m\u001b[0m\u001b[0;34m\u001b[0m\u001b[0m\n\u001b[0;32m---> 11\u001b[0;31m \u001b[0mfile_paths\u001b[0m \u001b[0;34m=\u001b[0m \u001b[0;34m{\u001b[0m\u001b[0;34mf\"file_{i}\"\u001b[0m\u001b[0;34m:\u001b[0m \u001b[0mpath\u001b[0m \u001b[0;32mfor\u001b[0m \u001b[0mi\u001b[0m\u001b[0;34m,\u001b[0m \u001b[0mpath\u001b[0m \u001b[0;32min\u001b[0m \u001b[0menumerate\u001b[0m\u001b[0;34m(\u001b[0m\u001b[0mcsv_file_paths\u001b[0m\u001b[0;34m)\u001b[0m\u001b[0;34m}\u001b[0m\u001b[0;34m\u001b[0m\u001b[0;34m\u001b[0m\u001b[0m\n\u001b[0m\u001b[1;32m     12\u001b[0m \u001b[0mprint\u001b[0m\u001b[0;34m(\u001b[0m\u001b[0mfile_paths\u001b[0m\u001b[0;34m)\u001b[0m\u001b[0;34m\u001b[0m\u001b[0;34m\u001b[0m\u001b[0m\n\u001b[1;32m     13\u001b[0m \u001b[0;31m# # Load all files into DataFrames\u001b[0m\u001b[0;34m\u001b[0m\u001b[0;34m\u001b[0m\u001b[0;34m\u001b[0m\u001b[0m\n",
      "\u001b[0;31mNameError\u001b[0m: name 'csv_file_paths' is not defined"
     ]
    }
   ],
   "source": [
    "# file_paths = {\n",
    "#     \"balance\": \"hc100_balance.csv\",\n",
    "#     \"hurriedpace\": \"hc100_hurriedpace.csv\",\n",
    "#     \"hurriedpace_mat\": \"hc100_hurriedpace_mat.csv\",\n",
    "#     \"selfpace\": \"hc100_selfpace.csv\",\n",
    "#     \"selfpace_mat\": \"hc100_selfpace_mat.csv\",\n",
    "#     \"selfpace_matturn\": \"hc100_selfpace_matturn.csv\",\n",
    "#     \"tandemgait\": \"hc100_tandemgait.csv\",\n",
    "#     \"tug\": \"hc100_tug.csv\"\n",
    "# }\n",
    "\n",
    "### CURRENTLY IT USES FILE NAME COMING FROM FILES_JOIN.PY. If want to use directly in this change the file_paths.\n",
    "\n",
    "\n",
    "print(\"###############################################\")\n",
    "print(file_name)\n",
    "print(\"###############################################\")\n",
    "# Load all files into DataFrames\n",
    "# dataframes = {name: pd.read_csv(path) for name, path in file_paths.items()}\n",
    "\n",
    "# # Display basic information about each file\n",
    "# file_overview = {name: df.info() for name, df in dataframes.items()}"
   ]
  },
  {
   "cell_type": "code",
   "execution_count": 123,
   "metadata": {},
   "outputs": [],
   "source": [
    "# selfpace_data = dataframes[\"selfpace\"]\n",
    "selfpace_data = pd.read_csv(file_name)"
   ]
  },
  {
   "cell_type": "code",
   "execution_count": 124,
   "metadata": {},
   "outputs": [],
   "source": [
    "if 'Time' in selfpace_data.columns:\n",
    "    selfpace_data['Time'] = selfpace_data['Time'].str.replace(' sec', '', regex=False).astype(float)"
   ]
  },
  {
   "cell_type": "code",
   "execution_count": 125,
   "metadata": {},
   "outputs": [
    {
     "name": "stderr",
     "output_type": "stream",
     "text": [
      "C:\\Users\\dhruv\\AppData\\Local\\Temp\\ipykernel_5392\\1887272773.py:2: FutureWarning: DataFrame.fillna with 'method' is deprecated and will raise in a future version. Use obj.ffill() or obj.bfill() instead.\n",
      "  selfpace_data[relevant_columns] = selfpace_data[relevant_columns].fillna(method='ffill').fillna(method='bfill')\n"
     ]
    }
   ],
   "source": [
    "relevant_columns = ['L Foot Contact', 'R Foot Contact', 'Walkway_X', 'Walkway_Y']\n",
    "selfpace_data[relevant_columns] = selfpace_data[relevant_columns].fillna(method='ffill')\n",
    "\n",
    "# 1.3 Expand 'Walkway_X' and 'Walkway_Y' values split by \"|\"\n",
    "walkway_x_patterns = selfpace_data['Walkway_X'].str.split('|', expand=True).astype(float)\n",
    "walkway_y_patterns = selfpace_data['Walkway_Y'].str.split('|', expand=True).astype(float)\n"
   ]
  },
  {
   "cell_type": "code",
   "execution_count": 126,
   "metadata": {},
   "outputs": [],
   "source": [
    "l_foot_contact = selfpace_data['L Foot Contact']\n",
    "r_foot_contact = selfpace_data['R Foot Contact']"
   ]
  },
  {
   "cell_type": "code",
   "execution_count": 127,
   "metadata": {},
   "outputs": [],
   "source": [
    "# Detect heel strikes (contact onset) and toe-offs (contact offset)\n",
    "heel_strike_l = l_foot_contact.diff() > 0  # Heel strike for left foot\n",
    "toe_off_l = l_foot_contact.diff() < 0      # Toe-off for left foot"
   ]
  },
  {
   "cell_type": "code",
   "execution_count": 128,
   "metadata": {},
   "outputs": [],
   "source": [
    "heel_strike_r = r_foot_contact.diff() > 0  # Heel strike for right foot\n",
    "toe_off_r = r_foot_contact.diff() < 0      # Toe-off for right foot"
   ]
  },
  {
   "cell_type": "code",
   "execution_count": 129,
   "metadata": {},
   "outputs": [],
   "source": [
    "# Get indices of heel strikes for segmentation\n",
    "heel_strike_l_indices = heel_strike_l[heel_strike_l].index\n",
    "heel_strike_r_indices = heel_strike_r[heel_strike_r].index"
   ]
  },
  {
   "cell_type": "code",
   "execution_count": 130,
   "metadata": {},
   "outputs": [],
   "source": [
    "# 2.2 Segment into gait cycles\n",
    "gait_cycles = []\n",
    "for i in range(len(heel_strike_l_indices) - 1):\n",
    "    start = heel_strike_l_indices[i]\n",
    "    end = heel_strike_l_indices[i + 1]\n",
    "    gait_cycles.append(selfpace_data.iloc[start:end])"
   ]
  },
  {
   "cell_type": "code",
   "execution_count": 131,
   "metadata": {},
   "outputs": [],
   "source": [
    "# Step 2.3: Calculate spatiotemporal metrics\n",
    "stride_times = []\n",
    "stride_lengths = []\n",
    "step_lengths = []"
   ]
  },
  {
   "cell_type": "code",
   "execution_count": 132,
   "metadata": {},
   "outputs": [],
   "source": [
    "for cycle in gait_cycles:\n",
    "    if len(cycle) > 1:\n",
    "        # Stride time: Time difference between consecutive heel strikes\n",
    "        stride_time = cycle['Time'].iloc[-1] - cycle['Time'].iloc[0]\n",
    "        stride_times.append(stride_time)\n",
    "        \n",
    "        # Stride length: Euclidean distance between initial and final positions\n",
    "        start_x, start_y = walkway_x_patterns.iloc[cycle.index[0]].mean(), walkway_y_patterns.iloc[cycle.index[0]].mean()\n",
    "        end_x, end_y = walkway_x_patterns.iloc[cycle.index[-1]].mean(), walkway_y_patterns.iloc[cycle.index[-1]].mean()\n",
    "        stride_length = np.sqrt((end_x - start_x) ** 2 + (end_y - start_y) ** 2)\n",
    "        stride_lengths.append(stride_length)\n",
    "        \n",
    "        # Step length: Distance between left and right footfalls (mid-gait cycle)\n",
    "        if len(cycle) > 2:\n",
    "            mid_x, mid_y = walkway_x_patterns.iloc[cycle.index[len(cycle) // 2]].mean(), walkway_y_patterns.iloc[cycle.index[len(cycle) // 2]].mean()\n",
    "            step_length = np.sqrt((mid_x - start_x) ** 2 + (mid_y - start_y) ** 2)\n",
    "            step_lengths.append(step_length)\n"
   ]
  },
  {
   "cell_type": "code",
   "execution_count": 133,
   "metadata": {},
   "outputs": [],
   "source": [
    "def compute_statistics(metrics):\n",
    "    return {\n",
    "        \"Mean\": float(np.mean(metrics)),\n",
    "        \"Std Dev\": float(np.std(metrics)),\n",
    "        \"Coefficient of Variation\": float(np.std(metrics) / np.mean(metrics)) if np.mean(metrics) != 0 else None\n",
    "    }"
   ]
  },
  {
   "cell_type": "code",
   "execution_count": 134,
   "metadata": {},
   "outputs": [],
   "source": [
    "stride_time_stats = compute_statistics(stride_times)\n",
    "stride_length_stats = compute_statistics(stride_lengths)\n",
    "step_length_stats = compute_statistics(step_lengths)"
   ]
  },
  {
   "cell_type": "code",
   "execution_count": 135,
   "metadata": {},
   "outputs": [],
   "source": [
    "def symmetry_index(left, right):\n",
    "    return float(abs(left - right) / ((left + right) / 2) * 100) if (left + right) != 0 else None\n"
   ]
  },
  {
   "cell_type": "code",
   "execution_count": 136,
   "metadata": {},
   "outputs": [],
   "source": [
    "left_stride_lengths = stride_lengths[::2]  # Assuming alternating footfalls\n",
    "right_stride_lengths = stride_lengths[1::2]\n",
    "symmetry_indices = [\n",
    "    symmetry_index(left, right) for left, right in zip(left_stride_lengths, right_stride_lengths)\n",
    "]"
   ]
  },
  {
   "cell_type": "code",
   "execution_count": 137,
   "metadata": {},
   "outputs": [],
   "source": [
    "# Step 4: Compare with Reference Data\n",
    "# reference_stride_time = 1.0  # Example reference value (seconds)\n",
    "# reference_stride_length = 1.5  # Example reference value (meters)\n",
    "\n",
    "# stride_time_comparison = {\n",
    "#     \"Extracted\": stride_time_stats,\n",
    "#     \"Reference\": reference_stride_time\n",
    "# }\n",
    "\n",
    "# stride_length_comparison = {\n",
    "#     \"Extracted\": stride_length_stats,\n",
    "#     \"Reference\": reference_stride_length\n",
    "# }"
   ]
  },
  {
   "cell_type": "code",
   "execution_count": 138,
   "metadata": {},
   "outputs": [
    {
     "data": {
      "text/plain": [
       "{'Stride Time Stats': {'Mean': 2.0081818181818187,\n",
       "  'Std Dev': 1.535920323346697,\n",
       "  'Coefficient of Variation': 0.764831306329274},\n",
       " 'Stride Length Stats': {'Mean': 116.35220312840455,\n",
       "  'Std Dev': 15.182334252694593,\n",
       "  'Coefficient of Variation': 0.13048600580377145},\n",
       " 'Step Length Stats': {'Mean': 80.74687053884648,\n",
       "  'Std Dev': 37.52443961338148,\n",
       "  'Coefficient of Variation': 0.46471695265674556},\n",
       " 'Symmetry Indices': [2.9140629767037534,\n",
       "  15.434645641714994,\n",
       "  28.35193610953835,\n",
       "  0.3666132730682915,\n",
       "  29.685240457324852]}"
      ]
     },
     "execution_count": 138,
     "metadata": {},
     "output_type": "execute_result"
    }
   ],
   "source": [
    "stride_results = {\n",
    "    \"Stride Time Stats\": stride_time_stats,\n",
    "    \"Stride Length Stats\": stride_length_stats,\n",
    "    \"Step Length Stats\": step_length_stats,\n",
    "    \"Symmetry Indices\": symmetry_indices,\n",
    "    # \"Comparisons\": {\n",
    "    #     \"Stride Time\": stride_time_comparison,\n",
    "    #     \"Stride Length\": stride_length_comparison\n",
    "    # }\n",
    "}\n",
    "\n",
    "# stride_results"
   ]
  },
  {
   "cell_type": "code",
   "execution_count": 139,
   "metadata": {},
   "outputs": [],
   "source": [
    "def fft_filter(data, fs, cutoff):\n",
    "    \"\"\"\n",
    "    Filters the data using FFT by zeroing out frequencies above the cutoff.\n",
    "\n",
    "    Parameters:\n",
    "    - data: Array-like, the signal to filter.\n",
    "    - fs: Sampling frequency in Hz.\n",
    "    - cutoff: Cutoff frequency in Hz.\n",
    "\n",
    "    Returns:\n",
    "    - Filtered signal in the time domain.\n",
    "    \"\"\"\n",
    "    # Perform FFT\n",
    "    n = len(data)\n",
    "    freq = fftfreq(n, d=1/fs)  # Frequency range\n",
    "    fft_vals = fft(data)\n",
    "\n",
    "    # Zero out frequencies beyond the cutoff\n",
    "    fft_vals[np.abs(freq) > cutoff] = 0\n",
    "\n",
    "    # Perform inverse FFT to reconstruct the signal\n",
    "    filtered_signal = np.real(ifft(fft_vals))\n",
    "    return filtered_signal"
   ]
  },
  {
   "cell_type": "code",
   "execution_count": 5,
   "metadata": {},
   "outputs": [
    {
     "ename": "SyntaxError",
     "evalue": "invalid syntax (<ipython-input-5-3cb5574108c3>, line 9)",
     "output_type": "error",
     "traceback": [
      "\u001b[0;36m  File \u001b[0;32m\"<ipython-input-5-3cb5574108c3>\"\u001b[0;36m, line \u001b[0;32m9\u001b[0m\n\u001b[0;31m    cop_x = pd.concat(if not None [cop_free_acc_data['LCoP_X'], cop_free_acc_data['RCoP_X']], axis=0)\u001b[0m\n\u001b[0m                      ^\u001b[0m\n\u001b[0;31mSyntaxError\u001b[0m\u001b[0;31m:\u001b[0m invalid syntax\n"
     ]
    }
   ],
   "source": [
    "# Drop rows with NaN in relevant columns for CoP and FreeAcc\n",
    "cop_free_acc_data = selfpace_data[['LCoP_X','LCoP_Y','RCoP_X', 'RCoP_Y', 'Rinsole:Acc_X', 'Rinsole:Acc_Y', 'Rinsole:Acc_Z']].dropna()\n",
    "\n",
    "# Step 2.4: Extract Balance and Stability Metrics\n",
    "\n",
    "# # Extract relevant columns for CoP (Center of Pressure) and FreeAcc (Free Acceleration)\n",
    "# cop_x = cop_free_acc_data['RCoP_X']\n",
    "# cop_y = cop_free_acc_data['RCoP_Y']\n",
    "cop_x = pd.concat([cop_free_acc_data['LCoP_X'], cop_free_acc_data['RCoP_X']], axis=0)\n",
    "cop_y = pd.concat([cop_free_acc_data['LCoP_Y'], cop_free_acc_data['RCoP_Y']], axis=0)\n",
    "free_acc_x = cop_free_acc_data['Rinsole:Acc_X']\n",
    "free_acc_y = cop_free_acc_data['Rinsole:Acc_Y']\n",
    "free_acc_z = cop_free_acc_data['Rinsole:Acc_Z']\n",
    "\n",
    "cop_x = cop_x.to_numpy()\n",
    "cop_y = cop_y.to_numpy()\n",
    "free_acc_x = free_acc_x.to_numpy()\n",
    "free_acc_y = free_acc_y.to_numpy()\n",
    "free_acc_z = free_acc_z.to_numpy()\n",
    "\n",
    "## FILTERED\n",
    "\n",
    "# Parameters for FFT filtering\n",
    "sampling_frequency = 100\n",
    "cutoff_frequency = 5  # Cutoff frequency in Hz\n",
    "\n",
    "cop_x = fft_filter(cop_x, sampling_frequency, cutoff_frequency)\n",
    "cop_y = fft_filter(cop_y, sampling_frequency, cutoff_frequency)\n",
    "free_acc_x = fft_filter(free_acc_x, sampling_frequency, cutoff_frequency)\n",
    "free_acc_y = fft_filter(free_acc_y, sampling_frequency, cutoff_frequency)\n",
    "free_acc_z = fft_filter(free_acc_z, sampling_frequency, cutoff_frequency)\n"
   ]
  },
  {
   "cell_type": "code",
   "execution_count": 141,
   "metadata": {},
   "outputs": [],
   "source": [
    "# Compute sway indices (e.g., path length, area of sway)\n",
    "# Path length of CoP (sum of stepwise distances)\n",
    "cop_path_length = float(np.sum(np.sqrt(np.diff(cop_x) ** 2 + np.diff(cop_y) ** 2)))\n",
    "\n",
    "# Area of sway (approximate as bounding box area)\n",
    "cop_area_sway = float((cop_x.max() - cop_x.min()) * (cop_y.max() - cop_y.min()))\n",
    "\n",
    "# Stability index based on FreeAcc\n",
    "stability_index = float(np.sqrt(free_acc_x.var() + free_acc_y.var() + free_acc_z.var()))\n",
    "\n"
   ]
  },
  {
   "cell_type": "code",
   "execution_count": 142,
   "metadata": {},
   "outputs": [],
   "source": [
    "# Step 3: Statistical Analysis for Sway and Stability\n",
    "\n",
    "# Compute variability metrics for sway and stability indices\n",
    "sway_stats = {\n",
    "    \"Path Length\": cop_path_length,\n",
    "    \"Sway Area\": cop_area_sway,\n",
    "    \"Stability Index\": stability_index\n",
    "}"
   ]
  },
  {
   "cell_type": "code",
   "execution_count": 143,
   "metadata": {},
   "outputs": [],
   "source": [
    "variability_metrics = {\n",
    "    \"Sway Path Length\": compute_statistics(np.diff(cop_x) ** 2 + np.diff(cop_y) ** 2),\n",
    "    \"FreeAcc Stability\": compute_statistics([free_acc_x.var(), free_acc_y.var(), free_acc_z.var()])\n",
    "}"
   ]
  },
  {
   "cell_type": "code",
   "execution_count": 144,
   "metadata": {},
   "outputs": [],
   "source": [
    "# Step 4: Compare with Reference Data\n",
    "# Define reference values for sway and stability metrics (example values)\n",
    "reference_sway_path_length = 0.5  # Example reference for path length\n",
    "reference_stability_index = 0.1  # Example reference for stability index\n",
    "\n",
    "sway_comparison = {\n",
    "    \"Extracted\": sway_stats,\n",
    "    \"Reference\": {\n",
    "        \"Path Length\": reference_sway_path_length,\n",
    "        \"Stability Index\": reference_stability_index\n",
    "    }\n",
    "}"
   ]
  },
  {
   "cell_type": "code",
   "execution_count": 149,
   "metadata": {},
   "outputs": [
    {
     "data": {
      "text/plain": [
       "{'stride_time_mean': 2.0081818181818187,\n",
       " 'stride_time_std_dev': 1.535920323346697,\n",
       " 'stride_time_CoV': 0.764831306329274,\n",
       " 'stride_length_mean': 116.35220312840455,\n",
       " 'stride_length_std_dev': 15.182334252694593,\n",
       " 'stride_length_CoV': 0.13048600580377145,\n",
       " 'step_length_mean': 80.74687053884648,\n",
       " 'step_length_std_dev': 37.52443961338148,\n",
       " 'step_length_CoV': 0.46471695265674556,\n",
       " 'symmetry_indices': [2.9140629767037534,\n",
       "  15.434645641714994,\n",
       "  28.35193610953835,\n",
       "  0.3666132730682915,\n",
       "  29.685240457324852],\n",
       " 'path_length': 72.68338576329901,\n",
       " 'sway_area': 0.33523216451012816,\n",
       " 'stability_index': 0.7988712985515577,\n",
       " 'sway_path_length_mean': 0.00015311900469644184,\n",
       " 'sway_path_length_dev': 0.0002885424641316676,\n",
       " 'sway_path_length_CoV': 1.8844327306313318,\n",
       " 'free_acc_stability_mean': 0.2127317838831507,\n",
       " 'free_acc_stability_dev': 0.15453589575424284,\n",
       " 'free_acc_stability_CoV': 0.7264353870088651}"
      ]
     },
     "execution_count": 149,
     "metadata": {},
     "output_type": "execute_result"
    }
   ],
   "source": [
    "# Final Results Compilation\n",
    "\n",
    "\n",
    "# final_results = {\n",
    "#     \"spatiotemporal_metrics\": {\n",
    "#         \"Stride Time\": stride_time_stats,\n",
    "#         \"Stride Length\": stride_length_stats,\n",
    "#         \"Step Length\": step_length_stats\n",
    "#     },\n",
    "#     \"symmetry_indices\": symmetry_indices,\n",
    "#     \"balance_and_stability_metrices\": sway_stats,\n",
    "#     \"variability_metrics\": variability_metrics,\n",
    "#     # \"Comparisons\": sway_comparison\n",
    "# }\n",
    "\n",
    "# final results separated\n",
    "final_results = {\n",
    "    \"stride_time_mean\":stride_time_stats['Mean'],\n",
    "    \"stride_time_std_dev\":stride_time_stats['Std Dev'],\n",
    "    \"stride_time_CoV\":stride_time_stats['Coefficient of Variation'],\n",
    "    \"stride_length_mean\":stride_length_stats['Mean'],\n",
    "    \"stride_length_std_dev\":stride_length_stats['Std Dev'],\n",
    "    \"stride_length_CoV\":stride_length_stats['Coefficient of Variation'],\n",
    "    \"step_length_mean\":step_length_stats['Mean'],\n",
    "    \"step_length_std_dev\":step_length_stats['Std Dev'],\n",
    "    \"step_length_CoV\":step_length_stats['Coefficient of Variation'],\n",
    "    \"symmetry_indices\": symmetry_indices,\n",
    "    \"path_length\": sway_stats['Path Length'],\n",
    "    \"sway_area\": sway_stats['Sway Area'],\n",
    "    \"stability_index\": sway_stats['Stability Index'],\n",
    "    \"sway_path_length_mean\":variability_metrics['Sway Path Length']['Mean'],\n",
    "    \"sway_path_length_dev\":variability_metrics['Sway Path Length']['Std Dev'],\n",
    "    \"sway_path_length_CoV\":variability_metrics['Sway Path Length']['Coefficient of Variation'],\n",
    "    \"free_acc_stability_mean\":variability_metrics['FreeAcc Stability']['Mean'],\n",
    "    \"free_acc_stability_dev\":variability_metrics['FreeAcc Stability']['Std Dev'],\n",
    "    \"free_acc_stability_CoV\":variability_metrics['FreeAcc Stability']['Coefficient of Variation'],\n",
    "\n",
    "    # \"variability_metrics\": variability_metrics,\n",
    "    # \"Comparisons\": sway_comparison\n",
    "}\n",
    "\n",
    "\n",
    "\n",
    "# final_results"
   ]
  },
  {
   "cell_type": "code",
   "execution_count": null,
   "metadata": {},
   "outputs": [],
   "source": []
  },
  {
   "cell_type": "code",
   "execution_count": null,
   "metadata": {},
   "outputs": [],
   "source": []
  }
 ],
 "metadata": {
  "kernelspec": {
   "display_name": "Python 3",
   "language": "python",
   "name": "python3"
  },
  "language_info": {
   "codemirror_mode": {
    "name": "ipython",
    "version": 3
   },
   "file_extension": ".py",
   "mimetype": "text/x-python",
   "name": "python",
   "nbconvert_exporter": "python",
   "pygments_lexer": "ipython3",
   "version": "3.8.8"
  }
 },
 "nbformat": 4,
 "nbformat_minor": 4
}
